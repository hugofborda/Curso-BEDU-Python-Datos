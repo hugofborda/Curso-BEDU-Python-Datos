{
 "cells": [
  {
   "cell_type": "markdown",
   "id": "775995db-0cf7-4c16-a627-76f63648c5c6",
   "metadata": {},
   "source": [
    "# Reto 05 estructuras de control"
   ]
  },
  {
   "cell_type": "code",
   "execution_count": null,
   "id": "1a2e6a9d-674d-48c2-af10-67dc218c64b9",
   "metadata": {},
   "outputs": [],
   "source": [
    "ventas_anuales_totales = 1000001\n",
    "\n",
    "# OPCIONAL\n",
    "sueldo = 10000\n"
   ]
  },
  {
   "cell_type": "code",
   "execution_count": null,
   "id": "41932147-706c-4ff3-a9d6-afbe1ee896e7",
   "metadata": {},
   "outputs": [],
   "source": [
    "bono = 0\n",
    "\n",
    "if ventas_anuales_totales > 1000000\n",
    "    bono = sueldo * 0.30\n",
    "elif ventas_anuales_totales >= 700000 and ventas_anuales_totales <= 1000000 :\n",
    "    bono = sueldo * 0.15\n",
    "elif ventas_anuales_totales >= 400000 and ventas_anuales_totales <= 700000 :\n",
    "    bono = sueldo * 0.10\n",
    "elif ventas_anuales_totales >= 100000 and ventas_anuales_totales <= 400000 :\n",
    "    bono = sueldo * 0.05\n",
    "else ventas_anuales_totales < 100000\n",
    "    bono = sueldo * 0.01\n",
    "\n",
    "print(f\"el bono es: {bono}\")    \n",
    "#Si las ventas son mayores a $1,000,000 el bono será de 20% del sueldo; si son entre $700,000 y $1,000,000 el bono será de 15% del sueldo; entre $400,000 y $700,000 el bono será de 10% del sueldo; entre $100,00 y 400,000 el bono será de 5% del sueldo; y debajo de $100,000 el bono será del 1% del sueldo."
   ]
  }
 ],
 "metadata": {
  "kernelspec": {
   "display_name": "Python 3 (ipykernel)",
   "language": "python",
   "name": "python3"
  },
  "language_info": {
   "codemirror_mode": {
    "name": "ipython",
    "version": 3
   },
   "file_extension": ".py",
   "mimetype": "text/x-python",
   "name": "python",
   "nbconvert_exporter": "python",
   "pygments_lexer": "ipython3",
   "version": "3.9.5"
  }
 },
 "nbformat": 4,
 "nbformat_minor": 5
}
