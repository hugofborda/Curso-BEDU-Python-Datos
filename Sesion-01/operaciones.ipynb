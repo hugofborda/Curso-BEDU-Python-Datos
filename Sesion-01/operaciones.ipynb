{
 "cells": [
  {
   "cell_type": "markdown",
   "id": "39dd405d-e019-40fe-bafd-53cd51ab73ad",
   "metadata": {},
   "source": [
    "# Variables y operaciones"
   ]
  },
  {
   "cell_type": "code",
   "execution_count": 1,
   "id": "9ead0f9f-2572-4ecc-a915-6fae0c938684",
   "metadata": {},
   "outputs": [],
   "source": [
    "var_1 = 20"
   ]
  },
  {
   "cell_type": "code",
   "execution_count": 2,
   "id": "6d953b83-8089-480d-a157-a153d8827a24",
   "metadata": {},
   "outputs": [],
   "source": [
    "var_2 = 10.5\n",
    "var_3 = True\n",
    "var_4 = \"Feliz año 2022\""
   ]
  },
  {
   "cell_type": "code",
   "execution_count": 3,
   "id": "414b3d0e-bd9f-4f9a-b37c-e8146a71d4f7",
   "metadata": {},
   "outputs": [
    {
     "data": {
      "text/plain": [
       "30.5"
      ]
     },
     "execution_count": 3,
     "metadata": {},
     "output_type": "execute_result"
    }
   ],
   "source": [
    "var_1 + var_2"
   ]
  },
  {
   "cell_type": "code",
   "execution_count": 4,
   "id": "c08a4507-366b-40b8-bbaf-c6003b547707",
   "metadata": {},
   "outputs": [],
   "source": [
    "var_5 = var_1 + var_2"
   ]
  },
  {
   "cell_type": "code",
   "execution_count": 5,
   "id": "dda83688-607f-45ef-91a5-6aad1d2304de",
   "metadata": {},
   "outputs": [
    {
     "data": {
      "text/plain": [
       "30.5"
      ]
     },
     "execution_count": 5,
     "metadata": {},
     "output_type": "execute_result"
    }
   ],
   "source": [
    "var_5"
   ]
  },
  {
   "cell_type": "code",
   "execution_count": 6,
   "id": "4d7dbdda-c1c7-421a-b672-7ff76a5f5cde",
   "metadata": {},
   "outputs": [
    {
     "data": {
      "text/plain": [
       "30.5"
      ]
     },
     "execution_count": 6,
     "metadata": {},
     "output_type": "execute_result"
    }
   ],
   "source": [
    "var_5 = var_1 + var_2\n",
    "var_5"
   ]
  },
  {
   "cell_type": "code",
   "execution_count": 7,
   "id": "ad3f905b-04fb-4c35-b76b-a8f8e1408d71",
   "metadata": {},
   "outputs": [
    {
     "data": {
      "text/plain": [
       "2"
      ]
     },
     "execution_count": 7,
     "metadata": {},
     "output_type": "execute_result"
    }
   ],
   "source": [
    "var_1 / 2\n",
    "var_1 % 3"
   ]
  },
  {
   "cell_type": "code",
   "execution_count": 8,
   "id": "648caa2e-a7b1-4819-a0b9-b7143de08aad",
   "metadata": {},
   "outputs": [
    {
     "name": "stdout",
     "output_type": "stream",
     "text": [
      "10.0\n",
      "2\n"
     ]
    }
   ],
   "source": [
    "print( var_1 / 2 )\n",
    "print( var_1 % 3 )"
   ]
  },
  {
   "cell_type": "code",
   "execution_count": 9,
   "id": "a4fbdc1c-b44c-409f-b7af-dab4999bc240",
   "metadata": {},
   "outputs": [
    {
     "data": {
      "text/plain": [
       "20.0"
      ]
     },
     "execution_count": 9,
     "metadata": {},
     "output_type": "execute_result"
    }
   ],
   "source": [
    "float(var_1) # Convertir int a float"
   ]
  },
  {
   "cell_type": "markdown",
   "id": "ca25d020-8b5e-4db2-b9f4-b717ea186a01",
   "metadata": {},
   "source": [
    "Para convertir de float a int"
   ]
  },
  {
   "cell_type": "code",
   "execution_count": 10,
   "id": "5e6aa7d6-03bf-452a-b68f-9029924c0109",
   "metadata": {},
   "outputs": [
    {
     "name": "stdout",
     "output_type": "stream",
     "text": [
      "10.5 <class 'float'>\n",
      "10 <class 'float'>\n"
     ]
    }
   ],
   "source": [
    "print(var_2, type(var_2))\n",
    "print(int(var_2), type(var_2))"
   ]
  },
  {
   "cell_type": "code",
   "execution_count": 13,
   "id": "77ebee6c-547d-4003-982c-cf3f7116c7cd",
   "metadata": {},
   "outputs": [
    {
     "data": {
      "text/plain": [
       "2021"
      ]
     },
     "execution_count": 13,
     "metadata": {},
     "output_type": "execute_result"
    }
   ],
   "source": [
    "var_6 = \"2021\"\n",
    "var_7 = int(var_6)\n",
    "var_7"
   ]
  },
  {
   "cell_type": "code",
   "execution_count": 14,
   "id": "a48c21e9-4abd-4830-aec3-378d8e860d57",
   "metadata": {},
   "outputs": [
    {
     "name": "stdout",
     "output_type": "stream",
     "text": [
      "20\n",
      "10.5\n",
      "True\n",
      "Feliz año 2022\n",
      "30.5\n",
      "2021\n",
      "2021\n",
      "\n"
     ]
    }
   ],
   "source": [
    "print(f\"{var_1}\\n{var_2}\\n{var_3}\\n{var_4}\\n{var_5}\\n{var_6}\\n{var_7}\\n\")"
   ]
  },
  {
   "cell_type": "code",
   "execution_count": 16,
   "id": "46ae9b37-8b3f-499e-bc06-3455ca7f60c2",
   "metadata": {},
   "outputs": [
    {
     "name": "stdout",
     "output_type": "stream",
     "text": [
      "20\n",
      "30.5\n"
     ]
    }
   ],
   "source": [
    "var_8 = f\"{var_1}\\n{var_1 + var_2}\"\n",
    "print(var_8)"
   ]
  },
  {
   "cell_type": "code",
   "execution_count": null,
   "id": "90b38080-4d0b-478b-95ad-49a68e6a7b57",
   "metadata": {},
   "outputs": [],
   "source": [
    "var_1 = 34\n",
    "var_2 = 12\n",
    "var_3 = 23.24\n",
    "var_4 = 23.56\n",
    "var_5 = \"OK\"\n",
    "var_6 = \"ERROR\"\n",
    "var_7 = True\n",
    "var_8 = False\n",
    "var_9 = 12.0"
   ]
  },
  {
   "cell_type": "code",
   "execution_count": null,
   "id": "57c076ab-f44e-424d-a1f9-1486de41fda8",
   "metadata": {
    "collapsed": true,
    "jupyter": {
     "outputs_hidden": true,
     "source_hidden": true
    },
    "tags": []
   },
   "outputs": [
    {
     "data": {
      "text/plain": [
       "True"
      ]
     },
     "execution_count": 19,
     "metadata": {},
     "output_type": "execute_result"
    }
   ],
   "source": [
    "var_1 > var_2"
   ]
  },
  {
   "cell_type": "code",
   "execution_count": null,
   "id": "b898fbd2-957e-4a18-b25f-b24532897318",
   "metadata": {
    "jupyter": {
     "source_hidden": true
    },
    "tags": []
   },
   "outputs": [
    {
     "data": {
      "text/plain": [
       "True"
      ]
     },
     "execution_count": 20,
     "metadata": {},
     "output_type": "execute_result"
    }
   ],
   "source": [
    "var_2 < var_3"
   ]
  },
  {
   "cell_type": "code",
   "execution_count": null,
   "id": "13901c5b-ac2b-4138-be35-0fa80bca9bf2",
   "metadata": {
    "jupyter": {
     "source_hidden": true
    },
    "tags": []
   },
   "outputs": [
    {
     "data": {
      "text/plain": [
       "True"
      ]
     },
     "execution_count": 21,
     "metadata": {},
     "output_type": "execute_result"
    }
   ],
   "source": [
    "var_2 <= var_9"
   ]
  },
  {
   "cell_type": "code",
   "execution_count": null,
   "id": "7f6f2ca7-f514-48a9-aa45-6468a94261d4",
   "metadata": {
    "jupyter": {
     "source_hidden": true
    },
    "tags": []
   },
   "outputs": [
    {
     "data": {
      "text/plain": [
       "True"
      ]
     },
     "execution_count": 22,
     "metadata": {},
     "output_type": "execute_result"
    }
   ],
   "source": [
    "var_2 >= var_9"
   ]
  },
  {
   "cell_type": "code",
   "execution_count": null,
   "id": "97647fdb-d63c-4ecb-af9c-56dfd00111f4",
   "metadata": {},
   "outputs": [
    {
     "data": {
      "text/plain": [
       "False"
      ]
     },
     "execution_count": 23,
     "metadata": {},
     "output_type": "execute_result"
    }
   ],
   "source": [
    "var_2 != var_9"
   ]
  },
  {
   "cell_type": "code",
   "execution_count": null,
   "id": "26b58159-dc25-4b8d-8fa8-247b4654ae5f",
   "metadata": {},
   "outputs": [
    {
     "data": {
      "text/plain": [
       "True"
      ]
     },
     "execution_count": 24,
     "metadata": {},
     "output_type": "execute_result"
    }
   ],
   "source": [
    "var_2 == var_9"
   ]
  },
  {
   "cell_type": "code",
   "execution_count": null,
   "id": "2785890c-f652-41bf-8655-1c702d320cc4",
   "metadata": {
    "collapsed": true,
    "jupyter": {
     "outputs_hidden": true,
     "source_hidden": true
    }
   },
   "outputs": [
    {
     "data": {
      "text/plain": [
       "False"
      ]
     },
     "execution_count": 25,
     "metadata": {},
     "output_type": "execute_result"
    }
   ],
   "source": [
    "not var_2 == var_9"
   ]
  },
  {
   "cell_type": "code",
   "execution_count": null,
   "id": "9911d458-4760-47cd-a1cf-2f62e5558fb6",
   "metadata": {
    "jupyter": {
     "source_hidden": true
    },
    "tags": []
   },
   "outputs": [],
   "source": []
  }
 ],
 "metadata": {
  "kernelspec": {
   "display_name": "Python 3 (ipykernel)",
   "language": "python",
   "name": "python3"
  },
  "language_info": {
   "codemirror_mode": {
    "name": "ipython",
    "version": 3
   },
   "file_extension": ".py",
   "mimetype": "text/x-python",
   "name": "python",
   "nbconvert_exporter": "python",
   "pygments_lexer": "ipython3",
   "version": "3.9.5"
  }
 },
 "nbformat": 4,
 "nbformat_minor": 5
}
