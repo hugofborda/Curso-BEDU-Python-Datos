{
 "cells": [
  {
   "cell_type": "markdown",
   "id": "59d5526b-215c-45df-8521-441c7e13c470",
   "metadata": {
    "tags": []
   },
   "source": [
    "# Introducción a Jupyter Lab\n",
    "___"
   ]
  },
  {
   "cell_type": "markdown",
   "id": "b6b2caeb-686d-4d76-8bd5-4689409fb9ce",
   "metadata": {
    "tags": []
   },
   "source": [
    "Vamos a ver que está es una línea de documentación para nuestros códigos"
   ]
  },
  {
   "cell_type": "code",
   "execution_count": 1,
   "id": "4320fc38-76a1-46fc-ae56-9c8cc6fa9f3c",
   "metadata": {},
   "outputs": [
    {
     "name": "stdout",
     "output_type": "stream",
     "text": [
      "Hola mundo de Jupyter Lab\n"
     ]
    }
   ],
   "source": [
    "print(\"Hola mundo de Jupyter Lab\")"
   ]
  },
  {
   "cell_type": "code",
   "execution_count": 2,
   "id": "45d30f90-a0da-4374-b7f3-ef149a889f9b",
   "metadata": {},
   "outputs": [
    {
     "data": {
      "text/plain": [
       "42"
      ]
     },
     "execution_count": 2,
     "metadata": {},
     "output_type": "execute_result"
    }
   ],
   "source": [
    "11 + 31"
   ]
  },
  {
   "cell_type": "code",
   "execution_count": 3,
   "id": "d84f2bb8-15fd-48e1-a0c6-bcf1e0adcb65",
   "metadata": {},
   "outputs": [
    {
     "data": {
      "text/plain": [
       "65"
      ]
     },
     "execution_count": 3,
     "metadata": {},
     "output_type": "execute_result"
    }
   ],
   "source": [
    "ord(\"A\")"
   ]
  },
  {
   "cell_type": "code",
   "execution_count": 4,
   "id": "3ed27252-8dba-4d11-bdaa-bfede7403f4d",
   "metadata": {},
   "outputs": [],
   "source": [
    "a = 10"
   ]
  },
  {
   "cell_type": "code",
   "execution_count": 5,
   "id": "2e4dbce8-30e8-4a64-aa15-bc5714541273",
   "metadata": {},
   "outputs": [],
   "source": [
    "b = 20"
   ]
  },
  {
   "cell_type": "code",
   "execution_count": 6,
   "id": "b075a2a0-a30c-4006-aa34-49621c62bdb0",
   "metadata": {},
   "outputs": [],
   "source": [
    "c = a + b"
   ]
  },
  {
   "cell_type": "code",
   "execution_count": 7,
   "id": "65b80e65-31ff-4852-89ae-f71918404ad7",
   "metadata": {},
   "outputs": [
    {
     "data": {
      "text/plain": [
       "30"
      ]
     },
     "execution_count": 7,
     "metadata": {},
     "output_type": "execute_result"
    }
   ],
   "source": [
    "c"
   ]
  },
  {
   "cell_type": "code",
   "execution_count": null,
   "id": "ed450643-cec0-4b53-93fe-d19f399d1add",
   "metadata": {},
   "outputs": [],
   "source": []
  }
 ],
 "metadata": {
  "kernelspec": {
   "display_name": "Python 3 (ipykernel)",
   "language": "python",
   "name": "python3"
  },
  "language_info": {
   "codemirror_mode": {
    "name": "ipython",
    "version": 3
   },
   "file_extension": ".py",
   "mimetype": "text/x-python",
   "name": "python",
   "nbconvert_exporter": "python",
   "pygments_lexer": "ipython3",
   "version": "3.9.5"
  }
 },
 "nbformat": 4,
 "nbformat_minor": 5
}
