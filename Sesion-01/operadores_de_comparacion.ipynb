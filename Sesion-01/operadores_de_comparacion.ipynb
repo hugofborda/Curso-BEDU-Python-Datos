{
 "cells": [
  {
   "cell_type": "markdown",
   "id": "84fb9216-7ba4-4f0e-8985-6c772a0b7d58",
   "metadata": {
    "tags": []
   },
   "source": [
    "# Operadores de comparación y estructuras de control\n",
    "___"
   ]
  },
  {
   "cell_type": "code",
   "execution_count": 1,
   "id": "30313ed7-740c-4756-8edc-8b5864534acc",
   "metadata": {},
   "outputs": [],
   "source": [
    "var_1 = 34\n",
    "var_2 = 12\n",
    "var_3 = 23.24\n",
    "var_4 = 23.56\n",
    "var_5 = \"OK\"\n",
    "var_6 = \"ERROR\"\n",
    "var_7 = True\n",
    "var_8 = False\n",
    "var_9 = 12.0\n",
    "var_10 = \"100\"\n",
    "var_11 = \"101\""
   ]
  },
  {
   "cell_type": "code",
   "execution_count": null,
   "id": "1fa748fa-a426-4931-827b-cc5125708eab",
   "metadata": {
    "jupyter": {
     "source_hidden": true
    },
    "tags": []
   },
   "outputs": [
    {
     "data": {
      "text/plain": [
       "True"
      ]
     },
     "execution_count": 19,
     "metadata": {},
     "output_type": "execute_result"
    }
   ],
   "source": [
    "var_1 > var_2"
   ]
  },
  {
   "cell_type": "code",
   "execution_count": null,
   "id": "f42f713d-6211-4112-953b-1aa50320dc3b",
   "metadata": {
    "jupyter": {
     "source_hidden": true
    },
    "tags": []
   },
   "outputs": [
    {
     "data": {
      "text/plain": [
       "True"
      ]
     },
     "execution_count": 20,
     "metadata": {},
     "output_type": "execute_result"
    }
   ],
   "source": [
    "var_2 < var_3"
   ]
  },
  {
   "cell_type": "code",
   "execution_count": null,
   "id": "6663fcf3-dfba-4cd8-a935-a9f4c74c5f48",
   "metadata": {
    "jupyter": {
     "source_hidden": true
    },
    "tags": []
   },
   "outputs": [
    {
     "data": {
      "text/plain": [
       "True"
      ]
     },
     "execution_count": 21,
     "metadata": {},
     "output_type": "execute_result"
    }
   ],
   "source": [
    "var_2 <= var_9"
   ]
  },
  {
   "cell_type": "code",
   "execution_count": null,
   "id": "44ac5fdb-ca5a-44e0-bb74-9a113f09a86b",
   "metadata": {
    "jupyter": {
     "source_hidden": true
    },
    "tags": []
   },
   "outputs": [
    {
     "data": {
      "text/plain": [
       "True"
      ]
     },
     "execution_count": 22,
     "metadata": {},
     "output_type": "execute_result"
    }
   ],
   "source": [
    "var_2 >= var_9"
   ]
  },
  {
   "cell_type": "code",
   "execution_count": null,
   "id": "b98d4814-c21f-4783-bd25-3ab1614fc6d6",
   "metadata": {},
   "outputs": [
    {
     "data": {
      "text/plain": [
       "False"
      ]
     },
     "execution_count": 23,
     "metadata": {},
     "output_type": "execute_result"
    }
   ],
   "source": [
    "var_2 != var_9"
   ]
  },
  {
   "cell_type": "code",
   "execution_count": null,
   "id": "41755236-60c5-4656-9ddf-52880d1625ce",
   "metadata": {},
   "outputs": [
    {
     "data": {
      "text/plain": [
       "True"
      ]
     },
     "execution_count": 24,
     "metadata": {},
     "output_type": "execute_result"
    }
   ],
   "source": [
    "var_2 == var_9"
   ]
  },
  {
   "cell_type": "code",
   "execution_count": 2,
   "id": "4dc39330-b672-44a2-a068-2c73b970af0b",
   "metadata": {},
   "outputs": [
    {
     "data": {
      "text/plain": [
       "False"
      ]
     },
     "execution_count": 2,
     "metadata": {},
     "output_type": "execute_result"
    }
   ],
   "source": [
    "not var_2 == var_9"
   ]
  },
  {
   "cell_type": "code",
   "execution_count": 3,
   "id": "acdb60ba-6a1f-4d90-bfd8-f58be5743b94",
   "metadata": {},
   "outputs": [
    {
     "data": {
      "text/plain": [
       "False"
      ]
     },
     "execution_count": 3,
     "metadata": {},
     "output_type": "execute_result"
    }
   ],
   "source": [
    "var_10 == var_11"
   ]
  },
  {
   "cell_type": "code",
   "execution_count": 5,
   "id": "b1c0ecf9-4f9a-4f8a-9bf0-b0e5bae708b1",
   "metadata": {},
   "outputs": [
    {
     "data": {
      "text/plain": [
       "True"
      ]
     },
     "execution_count": 5,
     "metadata": {},
     "output_type": "execute_result"
    }
   ],
   "source": [
    "var_10 < var_11 # no recomendable para valores"
   ]
  },
  {
   "cell_type": "code",
   "execution_count": 6,
   "id": "0769f234-e36f-42da-96d9-d51eaea80b06",
   "metadata": {},
   "outputs": [
    {
     "data": {
      "text/plain": [
       "True"
      ]
     },
     "execution_count": 6,
     "metadata": {},
     "output_type": "execute_result"
    }
   ],
   "source": [
    "int(var_10) < int(var_11) # forma recomendable"
   ]
  },
  {
   "cell_type": "markdown",
   "id": "6e3211c9-a025-4815-9056-e997b79a61b1",
   "metadata": {},
   "source": [
    "## Estructuras de control if\n",
    "___"
   ]
  },
  {
   "cell_type": "code",
   "execution_count": 8,
   "id": "3bf70765-6ea8-49d6-93be-7025e49721ba",
   "metadata": {},
   "outputs": [
    {
     "name": "stdout",
     "output_type": "stream",
     "text": [
      "var_9 es menor que var_2\n"
     ]
    }
   ],
   "source": [
    "var_9 = 10\n",
    "if var_2 == var_9 :\n",
    "    print(\"Las variables son iguales\")\n",
    "#elif var_2 != var_9\n",
    "elif var_2 < var_9 :\n",
    "    print(\"var_2 es menor que var_9\")\n",
    "else :\n",
    "    print(\"var_9 es menor que var_2\")\n",
    "    "
   ]
  },
  {
   "cell_type": "code",
   "execution_count": null,
   "id": "e7b98c75-625a-475f-886e-108d7878e09d",
   "metadata": {},
   "outputs": [],
   "source": []
  }
 ],
 "metadata": {
  "kernelspec": {
   "display_name": "Python 3 (ipykernel)",
   "language": "python",
   "name": "python3"
  },
  "language_info": {
   "codemirror_mode": {
    "name": "ipython",
    "version": 3
   },
   "file_extension": ".py",
   "mimetype": "text/x-python",
   "name": "python",
   "nbconvert_exporter": "python",
   "pygments_lexer": "ipython3",
   "version": "3.9.5"
  }
 },
 "nbformat": 4,
 "nbformat_minor": 5
}
