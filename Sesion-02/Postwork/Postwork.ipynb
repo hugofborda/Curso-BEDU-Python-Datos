{
 "cells": [
  {
   "cell_type": "markdown",
   "id": "60b9a7da-4bb1-426a-a2c0-151202690059",
   "metadata": {},
   "source": [
    "# Identificación del problema\n",
    "Comparar el comportamiento de la tasa de cambio del peso colombiano al dólar estadounidense, con el aumento de la inflación y el aumento del salario mínimo."
   ]
  },
  {
   "cell_type": "markdown",
   "id": "97015e68-68a5-4d50-aae8-71be24d4b9e8",
   "metadata": {},
   "source": [
    "# Preguntas acerca del problema.\n",
    "* Cuál ha sido el comportamiento del salario mínimo aumenta o disminuye frente a las variaciones de la tasa de cambio del peso colombiano al dólar estadounidense.\n",
    "* Cuál ha sido el comportamiento de salario mínimo aumenta o disminuye frente a los cambios de la inflación.\n",
    "* Cuál ha sido el comportamiento de la inflación aumenta o disminuye frente a las variaciones de la tasa de cambio de peso colombiano a dólar estadounidense."
   ]
  },
  {
   "cell_type": "code",
   "execution_count": null,
   "id": "0361ada6-b866-4f10-8177-eec8ba8e92ab",
   "metadata": {},
   "outputs": [],
   "source": []
  }
 ],
 "metadata": {
  "kernelspec": {
   "display_name": "Python 3 (ipykernel)",
   "language": "python",
   "name": "python3"
  },
  "language_info": {
   "codemirror_mode": {
    "name": "ipython",
    "version": 3
   },
   "file_extension": ".py",
   "mimetype": "text/x-python",
   "name": "python",
   "nbconvert_exporter": "python",
   "pygments_lexer": "ipython3",
   "version": "3.9.5"
  }
 },
 "nbformat": 4,
 "nbformat_minor": 5
}
