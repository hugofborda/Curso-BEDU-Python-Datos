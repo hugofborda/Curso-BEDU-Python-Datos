{
 "cells": [
  {
   "cell_type": "markdown",
   "metadata": {},
   "source": [
    "## Ejemplo 4: `apply`\n",
    "\n",
    "### 1. Objetivos:\n",
    "    - Usar `apply` para aplicar funciones a `Series` y `DataFrames`\n",
    " \n",
    "---\n",
    "    \n",
    "### 2. Desarrollo:"
   ]
  },
  {
   "cell_type": "code",
   "execution_count": 1,
   "metadata": {},
   "outputs": [],
   "source": [
    "import pandas as pd\n",
    "import numpy as np"
   ]
  },
  {
   "cell_type": "markdown",
   "metadata": {},
   "source": [
    "Para éste ejemplo también usamos el archivo `new_york_times_bestsellers-dirty.csv` porque vamos a aplicar una tranformación diferente a los mismos datos:"
   ]
  },
  {
   "cell_type": "code",
   "execution_count": 2,
   "metadata": {},
   "outputs": [
    {
     "data": {
      "text/html": [
       "<div>\n",
       "<style scoped>\n",
       "    .dataframe tbody tr th:only-of-type {\n",
       "        vertical-align: middle;\n",
       "    }\n",
       "\n",
       "    .dataframe tbody tr th {\n",
       "        vertical-align: top;\n",
       "    }\n",
       "\n",
       "    .dataframe thead th {\n",
       "        text-align: right;\n",
       "    }\n",
       "</style>\n",
       "<table border=\"1\" class=\"dataframe\">\n",
       "  <thead>\n",
       "    <tr style=\"text-align: right;\">\n",
       "      <th></th>\n",
       "      <th>amazon_product_url</th>\n",
       "      <th>author</th>\n",
       "      <th>description</th>\n",
       "      <th>publisher</th>\n",
       "      <th>title</th>\n",
       "      <th>oid</th>\n",
       "      <th>bestsellers_date.numberLong</th>\n",
       "      <th>published_date.numberLong</th>\n",
       "      <th>rank.numberInt</th>\n",
       "      <th>rank_last_week.numberInt</th>\n",
       "      <th>weeks_on_list.numberInt</th>\n",
       "      <th>price.numberDouble</th>\n",
       "    </tr>\n",
       "  </thead>\n",
       "  <tbody>\n",
       "    <tr>\n",
       "      <th>0</th>\n",
       "      <td>http://www.amazon.com/The-Host-Novel-Stephenie...</td>\n",
       "      <td>Stephenie Meyer</td>\n",
       "      <td>Descr: Aliens have taken control of the minds ...</td>\n",
       "      <td>Little, Brown</td>\n",
       "      <td>THE HOST</td>\n",
       "      <td>5b4aa4ead3089013507db18c</td>\n",
       "      <td>2008-05-24 00:00:00</td>\n",
       "      <td>1212883200000</td>\n",
       "      <td>2</td>\n",
       "      <td>1</td>\n",
       "      <td>3</td>\n",
       "      <td>25.99</td>\n",
       "    </tr>\n",
       "    <tr>\n",
       "      <th>1</th>\n",
       "      <td>http://www.amazon.com/Love-Youre-With-Emily-Gi...</td>\n",
       "      <td>Emily Giffin</td>\n",
       "      <td>Descr: A woman's happy marriage is shaken when...</td>\n",
       "      <td>St. Martin's</td>\n",
       "      <td>LOVE THE ONE YOU'RE WITH</td>\n",
       "      <td>5b4aa4ead3089013507db18d</td>\n",
       "      <td>2008-05-24 00:00:00</td>\n",
       "      <td>1212883200000</td>\n",
       "      <td>3</td>\n",
       "      <td>2</td>\n",
       "      <td>2</td>\n",
       "      <td>24.95</td>\n",
       "    </tr>\n",
       "    <tr>\n",
       "      <th>2</th>\n",
       "      <td>http://www.amazon.com/The-Front-Garano-Patrici...</td>\n",
       "      <td>Patricia Cornwell</td>\n",
       "      <td>Descr: A Massachusetts state investigator and ...</td>\n",
       "      <td>Putnam</td>\n",
       "      <td>THE FRONT</td>\n",
       "      <td>5b4aa4ead3089013507db18e</td>\n",
       "      <td>2008-05-24 00:00:00</td>\n",
       "      <td>1212883200000</td>\n",
       "      <td>4</td>\n",
       "      <td>0</td>\n",
       "      <td>1</td>\n",
       "      <td>22.95</td>\n",
       "    </tr>\n",
       "  </tbody>\n",
       "</table>\n",
       "</div>"
      ],
      "text/plain": [
       "                                  amazon_product_url             author  \\\n",
       "0  http://www.amazon.com/The-Host-Novel-Stephenie...    Stephenie Meyer   \n",
       "1  http://www.amazon.com/Love-Youre-With-Emily-Gi...       Emily Giffin   \n",
       "2  http://www.amazon.com/The-Front-Garano-Patrici...  Patricia Cornwell   \n",
       "\n",
       "                                         description      publisher  \\\n",
       "0  Descr: Aliens have taken control of the minds ...  Little, Brown   \n",
       "1  Descr: A woman's happy marriage is shaken when...   St. Martin's   \n",
       "2  Descr: A Massachusetts state investigator and ...         Putnam   \n",
       "\n",
       "                      title                       oid  \\\n",
       "0                  THE HOST  5b4aa4ead3089013507db18c   \n",
       "1  LOVE THE ONE YOU'RE WITH  5b4aa4ead3089013507db18d   \n",
       "2                 THE FRONT  5b4aa4ead3089013507db18e   \n",
       "\n",
       "  bestsellers_date.numberLong  published_date.numberLong rank.numberInt  \\\n",
       "0         2008-05-24 00:00:00              1212883200000              2   \n",
       "1         2008-05-24 00:00:00              1212883200000              3   \n",
       "2         2008-05-24 00:00:00              1212883200000              4   \n",
       "\n",
       "   rank_last_week.numberInt  weeks_on_list.numberInt  price.numberDouble  \n",
       "0                         1                        3               25.99  \n",
       "1                         2                        2               24.95  \n",
       "2                         0                        1               22.95  "
      ]
     },
     "execution_count": 2,
     "metadata": {},
     "output_type": "execute_result"
    }
   ],
   "source": [
    "df = pd.read_csv('../../Datasets/new_york_times_bestsellers-dirty.csv', index_col=0)\n",
    "df.head(3)"
   ]
  },
  {
   "cell_type": "markdown",
   "metadata": {},
   "source": [
    "Podemos aplicar funciones con uno o más parámetros a nuestras `Series` con el método `apply`, así que vamos a convertir la fecha de la columna `published_date.numberLong` que está dado en milisegundos en formato Epoc o Timestamp a sólo tener el año de publicación, recuerda usar:\n",
    "\n",
    "`pd.to_datetime(-valor-, unit=\"ms\")`"
   ]
  },
  {
   "cell_type": "code",
   "execution_count": 5,
   "metadata": {},
   "outputs": [],
   "source": [
    "def anio_de_publicacion(valor): # valor estaría en ms, usar pandas si usamos pandas\n",
    "        \"\"\" obtener el año desde la fecha epoc \"\"\"\n",
    "        fecha = pd.to_datetime(valor, unit=\"ms\")\n",
    "        return fecha.year"
   ]
  },
  {
   "cell_type": "code",
   "execution_count": 6,
   "metadata": {},
   "outputs": [
    {
     "data": {
      "text/plain": [
       "0       2008\n",
       "1       2008\n",
       "2       2008\n",
       "3       2008\n",
       "5       2008\n",
       "        ... \n",
       "3027    2013\n",
       "3028    2013\n",
       "3029    2013\n",
       "3030    2013\n",
       "3031    2013\n",
       "Name: published_date.numberLong, Length: 2266, dtype: int64"
      ]
     },
     "execution_count": 6,
     "metadata": {},
     "output_type": "execute_result"
    }
   ],
   "source": [
    "df['published_date.numberLong'].apply(anio_de_publicacion)"
   ]
  },
  {
   "cell_type": "markdown",
   "metadata": {},
   "source": [
    "O esta otra, obtener la semanas en listas, pero en porcentaje en base al máximo, en este caso necesitamos pasar un valor adiciona a la función y se realiza de la forma:\n",
    "\n",
    "`df[-columna-].apply(-función-, args=(-máximo de la columna-, ...) )`\n",
    "\n",
    "primero creamos nuestra función:"
   ]
  },
  {
   "cell_type": "code",
   "execution_count": 14,
   "metadata": {},
   "outputs": [],
   "source": [
    "def semanas_en_porcentaje(valor, maximo):\n",
    "    \"\"\" Regresar el porcentaje en relación a maximo \"\"\"\n",
    "    porcentaje = valor / maximo * 100\n",
    "    return f\"{porcentaje:.2f} %\""
   ]
  },
  {
   "cell_type": "markdown",
   "metadata": {},
   "source": [
    "Y lo aplicamos a la columna `weeks_on_list.numberInt`, pero también necesitamos el valor máximo de esta columna, que lo podemos obtener con `serie.max()`, entonces la función `apply()` queda como sigue:"
   ]
  },
  {
   "cell_type": "code",
   "execution_count": 15,
   "metadata": {},
   "outputs": [
    {
     "data": {
      "text/plain": [
       "0       2.78 %\n",
       "1       1.85 %\n",
       "2       0.93 %\n",
       "3       0.93 %\n",
       "5       2.78 %\n",
       "         ...  \n",
       "3027    1.85 %\n",
       "3028    4.63 %\n",
       "3029    1.85 %\n",
       "3030    0.93 %\n",
       "3031    7.41 %\n",
       "Name: weeks_on_list.numberInt, Length: 2266, dtype: object"
      ]
     },
     "execution_count": 15,
     "metadata": {},
     "output_type": "execute_result"
    }
   ],
   "source": [
    "df['weeks_on_list.numberInt'].apply(semanas_en_porcentaje, args = (df['weeks_on_list.numberInt'].max(),) )"
   ]
  },
  {
   "cell_type": "markdown",
   "metadata": {},
   "source": [
    "---\n",
    "---"
   ]
  },
  {
   "cell_type": "markdown",
   "metadata": {},
   "source": [
    "## Reto 4: Apply\n",
    "\n",
    "### 1. Objetivos:\n",
    "    - Practicar el uso del método `apply` para obtener columnas nuevas a partir de columnas existentes\n",
    "    \n",
    "### 2. Desarrollo:"
   ]
  },
  {
   "cell_type": "markdown",
   "metadata": {},
   "source": [
    "#### a) Obteniendo columnas nuevas a partir de existentes\n",
    "\n",
    "Vamos a trabajar con el dataset que guardaste de tu Reto anterior. Esta vez tu Reto es el siguiente:\n",
    "\n",
    "1. Crea una función que reciba un valor (en este caso el diámetro en metros de un objeto espacial) y regrese la proporción de ese valor en comparación con el diámetro de la Tierra. El diámetro de la Tierra es de 12,742 km. Así que el diámetro de un objeto que mida 10000 metros corresponde a un valor de 0.00078 en proporción al diámetro de la Tierra.\n",
    "2. Usa la columna 'estimated_diameter.meters.estimated_diameter_max', aplícale la función usando `apply` y crea una nueva columna llamada `proportion_of_max_diameter_to_earth` que deberá de ser de tipo `float64` y deberá contener valores entre 0 y 1 ya que es una proporción.\n",
    "3. Asigna el resultado a la variable `df_reto_4`.\n",
    "4. Guarda tu conjunto de datos en un archivo .csv."
   ]
  },
  {
   "cell_type": "code",
   "execution_count": 16,
   "metadata": {},
   "outputs": [
    {
     "data": {
      "text/html": [
       "<div>\n",
       "<style scoped>\n",
       "    .dataframe tbody tr th:only-of-type {\n",
       "        vertical-align: middle;\n",
       "    }\n",
       "\n",
       "    .dataframe tbody tr th {\n",
       "        vertical-align: top;\n",
       "    }\n",
       "\n",
       "    .dataframe thead th {\n",
       "        text-align: right;\n",
       "    }\n",
       "</style>\n",
       "<table border=\"1\" class=\"dataframe\">\n",
       "  <thead>\n",
       "    <tr style=\"text-align: right;\">\n",
       "      <th></th>\n",
       "      <th>Unnamed: 0.1</th>\n",
       "      <th>Unnamed: 0.1.1</th>\n",
       "      <th>id_name</th>\n",
       "      <th>is_potentially_hazardous_asteroid</th>\n",
       "      <th>estimated_diameter.meters.estimated_diameter_min</th>\n",
       "      <th>estimated_diameter.meters.estimated_diameter_max</th>\n",
       "      <th>close_approach_date</th>\n",
       "      <th>epoch_date_close_approach</th>\n",
       "      <th>orbiting_body</th>\n",
       "      <th>relative_velocity.kilometers_per_second</th>\n",
       "      <th>relative_velocity.kilometers_per_hour</th>\n",
       "      <th>orbit_class_description</th>\n",
       "      <th>id</th>\n",
       "      <th>name</th>\n",
       "      <th>relative_velocity.kilometers_per_minute</th>\n",
       "    </tr>\n",
       "  </thead>\n",
       "  <tbody>\n",
       "    <tr>\n",
       "      <th>0</th>\n",
       "      <td>0</td>\n",
       "      <td>0</td>\n",
       "      <td>2154652-154652 (2004 EP20)</td>\n",
       "      <td>0</td>\n",
       "      <td>483.676488</td>\n",
       "      <td>1081.533507</td>\n",
       "      <td>1995-01-07</td>\n",
       "      <td>1995-01-07 08:33:00</td>\n",
       "      <td>Earth</td>\n",
       "      <td>16.142864</td>\n",
       "      <td>58114.308667</td>\n",
       "      <td>Near Earth asteroid orbits similar to that of ...</td>\n",
       "      <td>2154652</td>\n",
       "      <td>154652 (2004 EP20)</td>\n",
       "      <td>968.571811</td>\n",
       "    </tr>\n",
       "    <tr>\n",
       "      <th>1</th>\n",
       "      <td>1</td>\n",
       "      <td>1</td>\n",
       "      <td>3153509-(2003 HM)</td>\n",
       "      <td>1</td>\n",
       "      <td>96.506147</td>\n",
       "      <td>215.794305</td>\n",
       "      <td>1995-01-07</td>\n",
       "      <td>1995-01-07 15:09:00</td>\n",
       "      <td>Earth</td>\n",
       "      <td>12.351044</td>\n",
       "      <td>44463.757734</td>\n",
       "      <td>Near Earth asteroid orbits which cross the Ear...</td>\n",
       "      <td>3153509</td>\n",
       "      <td>(2003 HM)</td>\n",
       "      <td>741.062629</td>\n",
       "    </tr>\n",
       "    <tr>\n",
       "      <th>2</th>\n",
       "      <td>2</td>\n",
       "      <td>2</td>\n",
       "      <td>3516633-(2010 HA)</td>\n",
       "      <td>0</td>\n",
       "      <td>44.111820</td>\n",
       "      <td>98.637028</td>\n",
       "      <td>1995-01-07</td>\n",
       "      <td>1995-01-07 02:47:00</td>\n",
       "      <td>Earth</td>\n",
       "      <td>6.220435</td>\n",
       "      <td>NaN</td>\n",
       "      <td>Near Earth asteroid orbits similar to that of ...</td>\n",
       "      <td>3516633</td>\n",
       "      <td>(2010 HA)</td>\n",
       "      <td>NaN</td>\n",
       "    </tr>\n",
       "  </tbody>\n",
       "</table>\n",
       "</div>"
      ],
      "text/plain": [
       "   Unnamed: 0.1  Unnamed: 0.1.1                     id_name  \\\n",
       "0             0               0  2154652-154652 (2004 EP20)   \n",
       "1             1               1           3153509-(2003 HM)   \n",
       "2             2               2           3516633-(2010 HA)   \n",
       "\n",
       "   is_potentially_hazardous_asteroid  \\\n",
       "0                                  0   \n",
       "1                                  1   \n",
       "2                                  0   \n",
       "\n",
       "   estimated_diameter.meters.estimated_diameter_min  \\\n",
       "0                                        483.676488   \n",
       "1                                         96.506147   \n",
       "2                                         44.111820   \n",
       "\n",
       "   estimated_diameter.meters.estimated_diameter_max close_approach_date  \\\n",
       "0                                       1081.533507          1995-01-07   \n",
       "1                                        215.794305          1995-01-07   \n",
       "2                                         98.637028          1995-01-07   \n",
       "\n",
       "  epoch_date_close_approach orbiting_body  \\\n",
       "0       1995-01-07 08:33:00         Earth   \n",
       "1       1995-01-07 15:09:00         Earth   \n",
       "2       1995-01-07 02:47:00         Earth   \n",
       "\n",
       "   relative_velocity.kilometers_per_second  \\\n",
       "0                                16.142864   \n",
       "1                                12.351044   \n",
       "2                                 6.220435   \n",
       "\n",
       "   relative_velocity.kilometers_per_hour  \\\n",
       "0                           58114.308667   \n",
       "1                           44463.757734   \n",
       "2                                    NaN   \n",
       "\n",
       "                             orbit_class_description       id  \\\n",
       "0  Near Earth asteroid orbits similar to that of ...  2154652   \n",
       "1  Near Earth asteroid orbits which cross the Ear...  3153509   \n",
       "2  Near Earth asteroid orbits similar to that of ...  3516633   \n",
       "\n",
       "                 name  relative_velocity.kilometers_per_minute  \n",
       "0  154652 (2004 EP20)                               968.571811  \n",
       "1           (2003 HM)                               741.062629  \n",
       "2           (2010 HA)                                      NaN  "
      ]
     },
     "execution_count": 16,
     "metadata": {},
     "output_type": "execute_result"
    }
   ],
   "source": [
    "df_reto_4 = pd.read_csv(\"../Ejemplo-03/objetos_cercanos_3.csv\", index_col=0)\n",
    "df_reto_4.head(3)"
   ]
  },
  {
   "cell_type": "code",
   "execution_count": 23,
   "metadata": {},
   "outputs": [],
   "source": [
    "def proporcion_vs_tierra(valor):\n",
    "    \"\"\" Regresa la proporción de valor con respecto a la Tierra \"\"\"\n",
    "    proporcion = valor / 12742000\n",
    "    \n",
    "    return proporcion"
   ]
  },
  {
   "cell_type": "code",
   "execution_count": 24,
   "metadata": {},
   "outputs": [
    {
     "data": {
      "text/html": [
       "<div>\n",
       "<style scoped>\n",
       "    .dataframe tbody tr th:only-of-type {\n",
       "        vertical-align: middle;\n",
       "    }\n",
       "\n",
       "    .dataframe tbody tr th {\n",
       "        vertical-align: top;\n",
       "    }\n",
       "\n",
       "    .dataframe thead th {\n",
       "        text-align: right;\n",
       "    }\n",
       "</style>\n",
       "<table border=\"1\" class=\"dataframe\">\n",
       "  <thead>\n",
       "    <tr style=\"text-align: right;\">\n",
       "      <th></th>\n",
       "      <th>proportion_of_max_diameter_to_earth</th>\n",
       "      <th>estimated_diameter.meters.estimated_diameter_max</th>\n",
       "    </tr>\n",
       "  </thead>\n",
       "  <tbody>\n",
       "    <tr>\n",
       "      <th>0</th>\n",
       "      <td>0.000085</td>\n",
       "      <td>1081.533507</td>\n",
       "    </tr>\n",
       "    <tr>\n",
       "      <th>1</th>\n",
       "      <td>0.000017</td>\n",
       "      <td>215.794305</td>\n",
       "    </tr>\n",
       "    <tr>\n",
       "      <th>2</th>\n",
       "      <td>0.000008</td>\n",
       "      <td>98.637028</td>\n",
       "    </tr>\n",
       "    <tr>\n",
       "      <th>3</th>\n",
       "      <td>0.000008</td>\n",
       "      <td>103.285648</td>\n",
       "    </tr>\n",
       "    <tr>\n",
       "      <th>4</th>\n",
       "      <td>0.000004</td>\n",
       "      <td>49.435619</td>\n",
       "    </tr>\n",
       "    <tr>\n",
       "      <th>...</th>\n",
       "      <td>...</td>\n",
       "      <td>...</td>\n",
       "    </tr>\n",
       "    <tr>\n",
       "      <th>328</th>\n",
       "      <td>0.000077</td>\n",
       "      <td>986.370281</td>\n",
       "    </tr>\n",
       "    <tr>\n",
       "      <th>329</th>\n",
       "      <td>0.000077</td>\n",
       "      <td>986.370281</td>\n",
       "    </tr>\n",
       "    <tr>\n",
       "      <th>330</th>\n",
       "      <td>0.000028</td>\n",
       "      <td>358.129403</td>\n",
       "    </tr>\n",
       "    <tr>\n",
       "      <th>331</th>\n",
       "      <td>0.000074</td>\n",
       "      <td>941.976306</td>\n",
       "    </tr>\n",
       "    <tr>\n",
       "      <th>332</th>\n",
       "      <td>0.000004</td>\n",
       "      <td>48.132673</td>\n",
       "    </tr>\n",
       "  </tbody>\n",
       "</table>\n",
       "<p>333 rows × 2 columns</p>\n",
       "</div>"
      ],
      "text/plain": [
       "     proportion_of_max_diameter_to_earth  \\\n",
       "0                               0.000085   \n",
       "1                               0.000017   \n",
       "2                               0.000008   \n",
       "3                               0.000008   \n",
       "4                               0.000004   \n",
       "..                                   ...   \n",
       "328                             0.000077   \n",
       "329                             0.000077   \n",
       "330                             0.000028   \n",
       "331                             0.000074   \n",
       "332                             0.000004   \n",
       "\n",
       "     estimated_diameter.meters.estimated_diameter_max  \n",
       "0                                         1081.533507  \n",
       "1                                          215.794305  \n",
       "2                                           98.637028  \n",
       "3                                          103.285648  \n",
       "4                                           49.435619  \n",
       "..                                                ...  \n",
       "328                                        986.370281  \n",
       "329                                        986.370281  \n",
       "330                                        358.129403  \n",
       "331                                        941.976306  \n",
       "332                                         48.132673  \n",
       "\n",
       "[333 rows x 2 columns]"
      ]
     },
     "execution_count": 24,
     "metadata": {},
     "output_type": "execute_result"
    }
   ],
   "source": [
    "df_reto_4[\"proportion_of_max_diameter_to_earth\"] = df_reto_4[\"estimated_diameter.meters.estimated_diameter_max\"].apply(proporcion_vs_tierra)\n",
    "df_reto_4[[ \"proportion_of_max_diameter_to_earth\", \"estimated_diameter.meters.estimated_diameter_max\" ] ]\n"
   ]
  },
  {
   "cell_type": "code",
   "execution_count": 26,
   "metadata": {},
   "outputs": [],
   "source": [
    "# guarda en el archivo objetos_cercanos_4.csv\n",
    "df_reto_4.to_csv(\"objetos_cercanos_4.csv\")"
   ]
  },
  {
   "cell_type": "markdown",
   "metadata": {},
   "source": [
    "La celda de validación nuevamente te ayudará a darte pautas para saber si tus resultados van por buen camino!"
   ]
  },
  {
   "cell_type": "code",
   "execution_count": 27,
   "metadata": {},
   "outputs": [
    {
     "name": "stdout",
     "output_type": "stream",
     "text": [
      "La transformación y creación de una nueva columna fue realizada exitosamente!\n"
     ]
    }
   ],
   "source": [
    "def revisar_aplicacion(df):\n",
    "    \n",
    "    assert 'proportion_of_max_diameter_to_earth' in df, 'No existe una columna llamada \"proportion_of_max_diameter_to_earth\" en el DataFrame'\n",
    "    assert df['proportion_of_max_diameter_to_earth'].equals(df['estimated_diameter.meters.estimated_diameter_max'] / 12742000), 'La transformacion no fue realizada adecuadamente'\n",
    "    \n",
    "    print(f'La transformación y creación de una nueva columna fue realizada exitosamente!')\n",
    "\n",
    "revisar_aplicacion(df_reto_4)"
   ]
  },
  {
   "cell_type": "code",
   "execution_count": null,
   "metadata": {},
   "outputs": [],
   "source": []
  }
 ],
 "metadata": {
  "kernelspec": {
   "display_name": "Python 3 (ipykernel)",
   "language": "python",
   "name": "python3"
  },
  "language_info": {
   "codemirror_mode": {
    "name": "ipython",
    "version": 3
   },
   "file_extension": ".py",
   "mimetype": "text/x-python",
   "name": "python",
   "nbconvert_exporter": "python",
   "pygments_lexer": "ipython3",
   "version": "3.9.5"
  }
 },
 "nbformat": 4,
 "nbformat_minor": 4
}
