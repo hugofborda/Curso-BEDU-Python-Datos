{
 "cells": [
  {
   "cell_type": "markdown",
   "id": "39c9b61a-d5af-4e5a-bee0-0872238c5671",
   "metadata": {},
   "source": [
    "# Identificación del problema\n",
    "Comparar el comportamiento de la tasa de cambio del peso colombiano al dólar estadounidense, con el aumento de la inflación y el aumento del salario mínimo."
   ]
  },
  {
   "cell_type": "markdown",
   "id": "4a9b132f-394f-45fb-bdf6-4dadc2df53c2",
   "metadata": {},
   "source": [
    "# Preguntas acerca del problema.\n",
    "* ¿Cuál ha sido el comportamiento la tasa de cambio del peso respecto dolar (aumenta o disminuye) frente a las variaciones del salario mínimo?\n",
    "* ¿Cuál ha sido el comportamiento de la inflación aumenta o disminuye frente a las variaciones de la tasa de cambio de peso colombiano a dólar estadounidense?\n",
    "* ¿Cuál ha sido el comportamiento de salario mínimo aumenta o disminuye frente a los cambios de la inflación?"
   ]
  },
  {
   "cell_type": "markdown",
   "id": "50c87a84-27c1-4e14-a191-92d39bf8c1b7",
   "metadata": {},
   "source": [
    "# Fuentes de datos\n",
    "* Histórico de tasa decambio de peso a dólar estadounidense (diario desde 1991 hasta 2022, fuente: Banco de la República de Colombia) https://www.banrep.gov.co/es/estadisticas/trm\n",
    "* Histórico de inflación (mensual desde 1941 hasta 2020, fuente: Banco Mundial) https://datos.bancomundial.org/indicator/FP.CPI.TOTL.ZG?locations=CO\n",
    "* Histórico de IPC (mensual desde 1954 hasta 2021, fuente: Banco de la República de Colombia) \n",
    "https://www.banrep.gov.co/es/estadisticas/indice-precios-consumidor-ipc\n",
    "* Histórico salario mínimo Colombia (anual desde 1984, fuente: Salario mínimo Colombia) https://www.salariominimocolombia.net/historico/\n",
    "* Histórico salario mínimo Colombia (anual desde 1894 hasta 2021, fuente: Ministerio de Educación de Colombia) https://ole.mineducacion.gov.co/portal/Contenidos/Documento/388408:Historico-del-Salario-minimo-en-Colombia-1894-2019"
   ]
  },
  {
   "cell_type": "code",
   "execution_count": null,
   "id": "84972b02-b275-4430-a308-5dba714fd6a2",
   "metadata": {},
   "outputs": [],
   "source": []
  }
 ],
 "metadata": {
  "kernelspec": {
   "display_name": "Python 3 (ipykernel)",
   "language": "python",
   "name": "python3"
  },
  "language_info": {
   "codemirror_mode": {
    "name": "ipython",
    "version": 3
   },
   "file_extension": ".py",
   "mimetype": "text/x-python",
   "name": "python",
   "nbconvert_exporter": "python",
   "pygments_lexer": "ipython3",
   "version": "3.9.5"
  }
 },
 "nbformat": 4,
 "nbformat_minor": 5
}
