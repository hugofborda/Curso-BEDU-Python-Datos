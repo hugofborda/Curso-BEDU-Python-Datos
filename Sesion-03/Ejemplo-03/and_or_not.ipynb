{
 "cells": [
  {
   "cell_type": "markdown",
   "metadata": {},
   "source": [
    "## Ejemplo 3: Los operadores lógicos AND, OR y NOT\n",
    "\n",
    "### 1. Objetivos:\n",
    "- Aprender a extender las capacidades de los `operadores de comparación` usando `and` y `or`.\n",
    "- Usar `and` y `or` para llamar `filter` con múltiples filtros.\n",
    " \n",
    "---\n",
    "    \n",
    "### 2. Desarrollo:"
   ]
  },
  {
   "cell_type": "markdown",
   "metadata": {},
   "source": [
    "Muchas veces una sola `sentencia de comparación` no va ser suficiente para filtrar los datos como queremos. En ese caso los operadores `and`, `or` y `not` puede ayudarnos a crear la sentencia que necesitamos."
   ]
  },
  {
   "cell_type": "markdown",
   "metadata": {},
   "source": [
    "### AND\n",
    "Los operadores lógicos funcionan sobre operadores o expresiones que regresen un valor lógico verdadero o falso (True o False), entonces para el operador lógigo `and` los posibles resultados en base al valor de los dos operandos es el siguiente:\n",
    "\n",
    "| Operando 1 | Operando 2 | Resultado |\n",
    "| ---------- | ---------- | --------- |\n",
    "| True       | True       | True      |\n",
    "| True       | False      | False     |\n",
    "| False      | True       | False     |\n",
    "| False      | False      | False     |\n",
    "\n",
    "esta es conocida como la tabla de verdad para el operador *y* (and)"
   ]
  },
  {
   "cell_type": "markdown",
   "metadata": {},
   "source": [
    "El operador `and` lo podemos aplicar cuando necesitemos que se cumplan dos o más condiciones de manera simúltánea, por ejemplo, vamos a determinar si un número cualquiera es divisible entre 3 y al mismo tiempo que sea menor que 100. Vamos a asumir que anterior mente ya habíamos creado la siguiente dos funciones por separado (que bien podría quedar todo en una sola función!):"
   ]
  },
  {
   "cell_type": "code",
   "execution_count": 1,
   "metadata": {},
   "outputs": [],
   "source": [
    "def es_divisible_entre_3(numero):\n",
    "    if numero % 3 == 0:\n",
    "        return True\n",
    "    else:\n",
    "        return False"
   ]
  },
  {
   "cell_type": "code",
   "execution_count": 2,
   "metadata": {},
   "outputs": [],
   "source": [
    "def es_menor_que_100(numero):\n",
    "    if numero < 100:\n",
    "        return True\n",
    "    else:\n",
    "        return False"
   ]
  },
  {
   "cell_type": "markdown",
   "metadata": {},
   "source": [
    "A continuación aplicamos ambas funciones a los números 10, 60, 99 y 120 evaluando cada número con ambas funciones al mismo tiempo y conectando ambos resultados con el operador `and`:"
   ]
  },
  {
   "cell_type": "code",
   "execution_count": 3,
   "metadata": {},
   "outputs": [
    {
     "data": {
      "text/plain": [
       "False"
      ]
     },
     "execution_count": 3,
     "metadata": {},
     "output_type": "execute_result"
    }
   ],
   "source": [
    "es_divisible_entre_3(10) and es_menor_que_100(10)"
   ]
  },
  {
   "cell_type": "code",
   "execution_count": 4,
   "metadata": {},
   "outputs": [
    {
     "data": {
      "text/plain": [
       "True"
      ]
     },
     "execution_count": 4,
     "metadata": {},
     "output_type": "execute_result"
    }
   ],
   "source": [
    "es_divisible_entre_3(60) and es_menor_que_100(60)"
   ]
  },
  {
   "cell_type": "code",
   "execution_count": 5,
   "metadata": {},
   "outputs": [
    {
     "data": {
      "text/plain": [
       "True"
      ]
     },
     "execution_count": 5,
     "metadata": {},
     "output_type": "execute_result"
    }
   ],
   "source": [
    "es_divisible_entre_3(99) and es_menor_que_100(99)"
   ]
  },
  {
   "cell_type": "code",
   "execution_count": 6,
   "metadata": {},
   "outputs": [
    {
     "data": {
      "text/plain": [
       "False"
      ]
     },
     "execution_count": 6,
     "metadata": {},
     "output_type": "execute_result"
    }
   ],
   "source": [
    "es_divisible_entre_3(120) and es_menor_que_100(120)"
   ]
  },
  {
   "cell_type": "markdown",
   "metadata": {},
   "source": [
    "Pero si queremos usar `filter(función, lista)` sólo acepta pasar una función, así que vamos a contruir una nueva función que conecte las dos funciones anteriores con el nombre `es_divisible_entre_3_y_menor_que_100`:"
   ]
  },
  {
   "cell_type": "code",
   "execution_count": 8,
   "metadata": {},
   "outputs": [],
   "source": [
    "def es_divisible_entre_3_y_menor_que_100(numero):\n",
    "    if es_divisible_entre_3(numero) and es_menor_que_100(numero):\n",
    "        return True\n",
    "    else:\n",
    "        return False"
   ]
  },
  {
   "cell_type": "markdown",
   "metadata": {},
   "source": [
    "Y entonces ahora ya podemos aplicar nuestra nueva función a una lista, si tenemos una lista de 100 números en el rango de 0 a 1000:"
   ]
  },
  {
   "cell_type": "code",
   "execution_count": 7,
   "metadata": {},
   "outputs": [
    {
     "name": "stdout",
     "output_type": "stream",
     "text": [
      "[951, 296, 931, 783, 549, 670, 25, 128, 668, 321, 737, 697, 212, 665, 932, 233, 54, 860, 279, 797, 331, 774, 71, 28, 24, 379, 835, 79, 607, 519, 928, 265, 230, 799, 430, 313, 469, 235, 734, 679, 270, 763, 395, 335, 202, 844, 596, 911, 325, 77, 507, 425, 491, 307, 195, 136, 85, 580, 122, 567, 416, 728, 761, 772, 575, 719, 178, 621, 570, 442, 900, 8, 798, 902, 459, 480, 203, 304, 546, 174, 314, 509, 800, 960, 23, 185, 323, 356, 789, 117, 343, 49, 345, 723, 256, 118, 827, 396, 984, 69]\n",
      "Total de números = 100\n"
     ]
    }
   ],
   "source": [
    "from random import sample\n",
    "\n",
    "numeros = sample(range(1000), 100)\n",
    "print(numeros)\n",
    "print(\"Total de números =\", len(numeros))"
   ]
  },
  {
   "cell_type": "markdown",
   "metadata": {},
   "source": [
    "Vamos a encontrar cuáles de estos números son divisibles entre 3 y menores que 100 usando `filter` y nuestra función:"
   ]
  },
  {
   "cell_type": "code",
   "execution_count": 9,
   "metadata": {},
   "outputs": [
    {
     "data": {
      "text/plain": [
       "[54, 24, 69]"
      ]
     },
     "execution_count": 9,
     "metadata": {},
     "output_type": "execute_result"
    }
   ],
   "source": [
    "list(filter(es_divisible_entre_3_y_menor_que_100,numeros))"
   ]
  },
  {
   "cell_type": "markdown",
   "metadata": {},
   "source": [
    "Y que pasa si queremos obtener todos los números que son divisibles entre 3 y que están en el intervalo de 100 a 200, entonces nos conviene evaluar si usamos alguna de nuestras funciones anteriores o construimos una nueva, pero aún así el operador `and` se tendrá que usar para conectar las diferentes condiciones, entonces vamos acrear una función llamada `es_divisible_entre_3_y_esta_entre_100_y_200`:"
   ]
  },
  {
   "cell_type": "code",
   "execution_count": 11,
   "metadata": {},
   "outputs": [],
   "source": [
    "def es_divisible_entre_3_y_esta_entre_100_y_200(numero):\n",
    "    return es_divisible_entre_3(numero) and 100 <= numero <=200"
   ]
  },
  {
   "cell_type": "markdown",
   "metadata": {},
   "source": [
    "Y se aplica con filter:"
   ]
  },
  {
   "cell_type": "code",
   "execution_count": 12,
   "metadata": {},
   "outputs": [
    {
     "data": {
      "text/plain": [
       "[195, 174, 117]"
      ]
     },
     "execution_count": 12,
     "metadata": {},
     "output_type": "execute_result"
    }
   ],
   "source": [
    "list(filter(es_divisible_entre_3_y_esta_entre_100_y_200,numeros))"
   ]
  },
  {
   "cell_type": "markdown",
   "metadata": {},
   "source": [
    "O usando listas de compresión en Python y nuestra función creada:"
   ]
  },
  {
   "cell_type": "code",
   "execution_count": 13,
   "metadata": {},
   "outputs": [
    {
     "data": {
      "text/plain": [
       "[195, 174, 117]"
      ]
     },
     "execution_count": 13,
     "metadata": {},
     "output_type": "execute_result"
    }
   ],
   "source": [
    "[valor for valor in numeros if es_divisible_entre_3_y_esta_entre_100_y_200(valor)]"
   ]
  },
  {
   "cell_type": "markdown",
   "metadata": {},
   "source": [
    "O la forma Pythonesca 1 sólo usando listas de compresión:"
   ]
  },
  {
   "cell_type": "code",
   "execution_count": 15,
   "metadata": {},
   "outputs": [
    {
     "data": {
      "text/plain": [
       "[195, 174, 117]"
      ]
     },
     "execution_count": 15,
     "metadata": {},
     "output_type": "execute_result"
    }
   ],
   "source": [
    "[valor for valor in numeros if valor % 3 ==0 and 100 <= valor <=200]"
   ]
  },
  {
   "cell_type": "markdown",
   "metadata": {},
   "source": [
    "O la forma Pythones 2 usando filter, funciones lambda e if en línea de Python, recuerda que la función para filter tiene que regresar verdadero o falso:"
   ]
  },
  {
   "cell_type": "code",
   "execution_count": 19,
   "metadata": {},
   "outputs": [
    {
     "data": {
      "text/plain": [
       "[195, 174, 117]"
      ]
     },
     "execution_count": 19,
     "metadata": {},
     "output_type": "execute_result"
    }
   ],
   "source": [
    "\"\"\"enteros = [1, 2, 4, 7]\n",
    "def cuadrado(x):\n",
    "    return x ** 2\n",
    "def cubo(x):\n",
    "    return x ** 3\n",
    "funciones = [cuadrado, cubo]\n",
    "for e in enteros:\n",
    "    valores = list(map(lambda x : x(e), funciones))\n",
    "    print(valores)\n",
    "\"\"\"\n",
    "list(filter(lambda valor : True if valor % 3 ==0 and 100 <= valor <=200 else False,numeros))"
   ]
  },
  {
   "cell_type": "markdown",
   "metadata": {},
   "source": [
    "### OR\n",
    "El operador lógico `or` tiene los siguientes resultados en base al valor de sus los dos operandos:\n",
    "\n",
    "| Operando 1 | Operando 2 | Resultado |\n",
    "| ---------- | ---------- | --------- |\n",
    "| True       | True       | True      |\n",
    "| True       | False      | True      |\n",
    "| False      | True       | True      |\n",
    "| False      | False      | False     |\n",
    "\n",
    "esta es conocida como la tabla de verdad para el operador *o* (or)"
   ]
  },
  {
   "cell_type": "markdown",
   "metadata": {},
   "source": [
    "El operador `or` lo podemos aplicar cuando necesitemos que se cumplan dos o más condiciones, pero no necesariamente de manera simultánea, en este caso vasta con que se cumpla una para dar por verdadera toda la operación, por ejemplo de nuestra lista de números, queremos encontrar ahora todos los números que **not** están en el intervalor de 100 a 200, entonces contruyamos la función `no_esta_entre_100_y_200`, las posibilidades son que el número sea menor a 100 **o** (or) que el número sea mayor a 200 (dificilmente un número va a cumplir ambas condiciones), entonces la función queda así:"
   ]
  },
  {
   "cell_type": "code",
   "execution_count": 20,
   "metadata": {},
   "outputs": [],
   "source": [
    "def no_esta_entre_100_y_200(numero):\n",
    "    return numero < 100 or numero > 200"
   ]
  },
  {
   "cell_type": "markdown",
   "metadata": {},
   "source": [
    "Aplicando con `filter` a nuestra lista `numeros`:"
   ]
  },
  {
   "cell_type": "code",
   "execution_count": 21,
   "metadata": {},
   "outputs": [
    {
     "name": "stdout",
     "output_type": "stream",
     "text": [
      "[951, 296, 931, 783, 549, 670, 25, 668, 321, 737, 697, 212, 665, 932, 233, 54, 860, 279, 797, 331, 774, 71, 28, 24, 379, 835, 79, 607, 519, 928, 265, 230, 799, 430, 313, 469, 235, 734, 679, 270, 763, 395, 335, 202, 844, 596, 911, 325, 77, 507, 425, 491, 307, 85, 580, 567, 416, 728, 761, 772, 575, 719, 621, 570, 442, 900, 8, 798, 902, 459, 480, 203, 304, 546, 314, 509, 800, 960, 23, 323, 356, 789, 343, 49, 345, 723, 256, 827, 396, 984, 69]\n",
      "91\n"
     ]
    }
   ],
   "source": [
    "resultado = list(filter(no_esta_entre_100_y_200,numeros))\n",
    "\n",
    "print(resultado)\n",
    "print(len(resultado))"
   ]
  },
  {
   "cell_type": "markdown",
   "metadata": {},
   "source": [
    "### NOT\n",
    "El operador lógico no (`not`) o negación sólo aplica a un operando y la tabla de verdad es:\n",
    "\n",
    "| Operando | Resultado |\n",
    "| -------- | --------- |\n",
    "| True     | False     |\n",
    "| False    | True      |"
   ]
  },
  {
   "cell_type": "markdown",
   "metadata": {},
   "source": [
    "El operador `not` lo podemos aplicar cuando necesitemos invertir el valor de una operación, por ejemplo de nuestra lista de números, queremos encontrar ahora todos los números que **not** son dibisibles entre 3, entonces podríamos contruir otra función, pero vamos a usar nuevamente el concepto de función lambda (que ya casi revisamos) para construir una función compacta, veamos como lo aplicamos directamente a `filter`:"
   ]
  },
  {
   "cell_type": "code",
   "execution_count": 22,
   "metadata": {},
   "outputs": [
    {
     "name": "stdout",
     "output_type": "stream",
     "text": [
      "[296, 931, 670, 25, 128, 668, 737, 697, 212, 665, 932, 233, 860, 797, 331, 71, 28, 379, 835, 79, 607, 928, 265, 230, 799, 430, 313, 469, 235, 734, 679, 763, 395, 335, 202, 844, 596, 911, 325, 77, 425, 491, 307, 136, 85, 580, 122, 416, 728, 761, 772, 575, 719, 178, 442, 8, 902, 203, 304, 314, 509, 800, 23, 185, 323, 356, 343, 49, 256, 118, 827]\n",
      "Número de elementos: 71\n"
     ]
    }
   ],
   "source": [
    "resultado = list(filter(lambda x: not es_divisible_entre_3(x),numeros))\n",
    "\n",
    "print(resultado)\n",
    "print(\"Número de elementos:\", len(resultado))"
   ]
  },
  {
   "cell_type": "markdown",
   "metadata": {},
   "source": [
    "El operador `not` estratégicamente aplicado nos puede ahorrar mucho trabajo o simplificar algunas operaciones y para ello se recomienda leer algún libro sobre Princípios de Lógica para aprender como crear y transformar las operaciones lógicas o también puedes experimentar con Python y aprender por tu cuenta."
   ]
  },
  {
   "cell_type": "markdown",
   "metadata": {},
   "source": [
    "---\n",
    "---\n",
    "## Reto 3: And, Or y Not\n",
    "\n",
    "### 1. Objetivos:\n",
    "- Practicar el operador `and`, `or` y `not` para realizar filtros más complejos\n",
    " \n",
    "### 2. Desarrollo:"
   ]
  },
  {
   "cell_type": "markdown",
   "metadata": {},
   "source": [
    "#### a) Filtrando valores atípicos en ambos extremos.\n",
    "\n",
    "Regresemos a nuestro ejemplo de EyePoker Inc. Esta vez tenemos un nuevo conjunto de datos con más empleados (la industria de picadores de ojos va en aumento vertiginoso). Además incluye los sueldos de algunos internos. Estos sueldos son muy bajos (simbólicos, podríamos llamarlos), como puedes ver:"
   ]
  },
  {
   "cell_type": "code",
   "execution_count": 23,
   "metadata": {},
   "outputs": [
    {
     "name": "stdout",
     "output_type": "stream",
     "text": [
      "[52, 78, 37, 27, 30, 71, 17, 57, 68, 37, 56, 52, 62, 25, 28, 31, 47, 44, 74, 51, 23, 46, 37, 51, 60, 70, 6, 61, 54, 30, 19, 49, 45, 86, 72, 12, 37, 69, 25, 32, 34, 40, 49, 49, 16, 76, 52, 65, 65, 50, 36, 58, 39, 52, 40, 25, 50, 49, 41, 49, 43, 46, 27, 27, 28, 38, 75, 19, 9, 31, 65, 24, 27, 23, 16, 57, 28, 51, 86, 27, 32, 18, 34, 18, 35, 43, 45, 59, 43, 51, 59, 43, 15, 41, 26, 34, 59, 52, 52, 30]\n",
      "El total de sueldos es de: 100\n"
     ]
    }
   ],
   "source": [
    "import random\n",
    "\n",
    "sueldos = [int(abs(random.gauss(40, 20))) for _ in range(100)]\n",
    "print(sueldos)\n",
    "print(\"El total de sueldos es de:\", len(sueldos))"
   ]
  },
  {
   "cell_type": "markdown",
   "metadata": {},
   "source": [
    "En realidad a nosotros sólo nos interesa analizar los sueldos de los empleados que tiene la empresa a largo plazo. Como tenemos bastantes internos, es muy probable que la inclusión de estos sueldos vaya a distorsionar nuestro cálculo del sueldo `típico` en la empresa, además recuerda que estas cantidades están dadas en miles."
   ]
  },
  {
   "cell_type": "code",
   "execution_count": 24,
   "metadata": {},
   "outputs": [
    {
     "name": "stdout",
     "output_type": "stream",
     "text": [
      "El sueldo \"típico\" en EyePoker Inc. con todos los datos es: $ 42990.00\n"
     ]
    }
   ],
   "source": [
    "print(f'El sueldo \"típico\" en EyePoker Inc. con todos los datos es: $ {sum(sueldos) / len(sueldos) * 1000:.2f}')"
   ]
  },
  {
   "cell_type": "markdown",
   "metadata": {},
   "source": [
    "Para evitar esta distorsión y calcular solamente el sueldo `típico` de los empleados que están contratados a largo plazo, vamos a filtrar nuestra lista.\n",
    "\n",
    "Lo que tienes que hacer es lo siguiente:\n",
    "\n",
    "1. Define una función que regrese `True` cuando el argumento sea mayor que 20.\n",
    "2. Define una función que regrese `True` cuando el argumento sea menor que 40.\n",
    "3. Define una tercera función que una las dos primeras funciones usando un operador `and`.\n",
    "4. Filtrar la lista y asignarla a `sueldos_filtrados`."
   ]
  },
  {
   "cell_type": "code",
   "execution_count": 25,
   "metadata": {},
   "outputs": [
    {
     "name": "stdout",
     "output_type": "stream",
     "text": [
      "[52, 78, 37, 27, 30, 71, 57, 68, 37, 56, 52, 62, 25, 28, 31, 47, 44, 74, 51, 23, 46, 37, 51, 60, 70, 61, 54, 30, 49, 45, 86, 72, 37, 69, 25, 32, 34, 40, 49, 49, 76, 52, 65, 65, 50, 36, 58, 39, 52, 40, 25, 50, 49, 41, 49, 43, 46, 27, 27, 28, 38, 75, 31, 65, 24, 27, 23, 57, 28, 51, 86, 27, 32, 34, 35, 43, 45, 59, 43, 51, 59, 43, 41, 26, 34, 59, 52, 52, 30]\n"
     ]
    }
   ],
   "source": [
    "def mayor_a_20(sueldo):\n",
    "    return sueldo > 20\n",
    "\n",
    "print(list(filter(mayor_a_20, sueldos)))"
   ]
  },
  {
   "cell_type": "code",
   "execution_count": 26,
   "metadata": {},
   "outputs": [
    {
     "name": "stdout",
     "output_type": "stream",
     "text": [
      "[37, 27, 30, 17, 37, 25, 28, 31, 23, 37, 6, 30, 19, 12, 37, 25, 32, 34, 16, 36, 39, 25, 27, 27, 28, 38, 19, 9, 31, 24, 27, 23, 16, 28, 27, 32, 18, 34, 18, 35, 15, 26, 34, 30]\n"
     ]
    }
   ],
   "source": [
    "def menor_a_40(sueldo):\n",
    "    return sueldo < 40\n",
    "\n",
    "print(list(filter(menor_a_40, sueldos)))"
   ]
  },
  {
   "cell_type": "code",
   "execution_count": 29,
   "metadata": {},
   "outputs": [],
   "source": [
    "def mayor_a_20_menor_a_40(sueldo):\n",
    "    return mayor_a_20(sueldo) and menor_a_40(sueldo)"
   ]
  },
  {
   "cell_type": "code",
   "execution_count": 30,
   "metadata": {},
   "outputs": [],
   "source": [
    "sueldos_filtrados = list(filter(mayor_a_20_menor_a_40, sueldos))"
   ]
  },
  {
   "cell_type": "markdown",
   "metadata": {},
   "source": [
    "Finalmente tu función de validación ..."
   ]
  },
  {
   "cell_type": "code",
   "execution_count": 31,
   "metadata": {},
   "outputs": [
    {
     "name": "stdout",
     "output_type": "stream",
     "text": [
      "Tú cálculo del sueldo \"típico\" de $ 30424.24 en EyePoker Inc. es aceptable, estás contratado!\n"
     ]
    }
   ],
   "source": [
    "from base64 import b64decode\n",
    "\n",
    "datos = b'CmRlZiBzdWVsZG9fZXNwZXJhZG8oc3VlbGRvcyk6CiAgICBudWV2b3Nfc3VlbGRvcyA9IFt4IGZvciB4IGluIHN1ZWxkb3MgaWYgeD4yMCBhbmQgeDw0MF0KICAgIHJldHVybiBzdW0obnVldm9zX3N1ZWxkb3MpIC8gbGVuKG51ZXZvc19zdWVsZG9zKSAqIDEwMDAK'\n",
    "eval(compile(b64decode(datos), \"\", \"exec\"))\n",
    "\n",
    "sueldo_tipico = sum(sueldos_filtrados) / len(sueldos_filtrados) * 1000\n",
    "if sueldo_tipico == sueldo_esperado(sueldos):\n",
    "    print(f'Tú cálculo del sueldo \"típico\" de $ {sueldo_tipico:.2f} en EyePoker Inc. es aceptable, estás contratado!')\n",
    "else:\n",
    "    print(f'Tú cálculo del sueldo \"típico\" de $ {sueldo_tipico:.2f} en EyePoker Inc. no es aceptable!')\n",
    "    print(f'El sueldo \"típico\" esperado es de $ {sueldo_esperado(sueldos):.2f}, hay un error en tus \"sueldos_filtrados\"')"
   ]
  },
  {
   "cell_type": "markdown",
   "metadata": {},
   "source": [
    "#### b) Filtrando palabras\n",
    "\n",
    "Eres el organizador del Concurso Nacional de Deletreo \"Salvador Novo\". Por una bella coincidencia, este año el día del concurso cae justo el mismo día que el Día del Orgullo LGBT. Dado que Salvador Novo era homosexual, te parece muy apropiado que el concurso de deletreo funcione como una celebración de su \"belicosa homosexualidad\" (como la llamaba Carlos Monsiváis). Se te ocurre hacer lo siguiente:\n",
    "\n",
    "De la lista de palabras que tenías originalmente para el concurso, vas a filtrar las palabras para que sólo tengas palabras que empiecen con \"l\" **o** o con \"g\" **o** con \"b\" **o** con \"t\".\n",
    "\n",
    "Aquí está tu lista original de palabras:"
   ]
  },
  {
   "cell_type": "code",
   "execution_count": 32,
   "metadata": {},
   "outputs": [],
   "source": [
    "palabras = ['cabildo', 'genocidio', 'severo', 'jarana', 'enigmático', 'jaguar', 'solidaridad', 'reivindicar', 'bálsamo', 'panteón',\n",
    "            'cabestrillo', 'boicotear', 'letargo', 'jaqueca', 'tentáculo', 'legislar', 'gnomo', 'blasfemia', 'camposanto',\n",
    "            'factible', 'eficaz', 'sintonía', 'lloriquear', 'fachada', 'edificante', 'pétalo', 'libélula', 'pavimento', 'llovizna',\n",
    "            'racimo', 'gargantilla', 'relieve', 'bóveda', 'tecnicismo', 'terraplén', 'basílica']"
   ]
  },
  {
   "cell_type": "markdown",
   "metadata": {},
   "source": [
    "1. Escribe 4 funciones, para cada una de las letras del acrónimo LGBT. Las funciones van a regresar `True` sólo si la palabra comienza con la letra que le corresponde.\n",
    "\n",
    "    Por ejemplo, la función `palabra_comienza_con_l` va a regresar `True` sólo si la palabra comienza con `l`.\n",
    "\n",
    "2. Después, define una función que sea la unión de estas 4 funciones y regrese `True` si la palabra comienza con alguna de las letras del acrónimo LGBT.\n",
    "\n",
    "3. Finalmente filtra la `lista` `palabras` para tener una nueva lista que será la `lista` usada para el concurso.\n",
    "\n",
    "> **Tip #1**: Las `strings` pueden ser accedas igual que las listas, así que si quieres acceder a la primera letra de una palabra basta con usar `palabra[0]`, como si fuera el primer índice de una `lista`.\n",
    "\n",
    "> **Tip #2**: Hasta ahora sólo hemos usando operadores `lógicos` con 1 o 2 comparaciones. Juntar más de dos comparaciones es tan fácil como escribir: \n",
    "\n",
    "```python\n",
    "comparacion_1 or comparacion_2 or comparacion_3 or comparacion_4\n",
    "```"
   ]
  },
  {
   "cell_type": "code",
   "execution_count": 34,
   "metadata": {},
   "outputs": [
    {
     "data": {
      "text/plain": [
       "['letargo', 'legislar', 'lloriquear', 'libélula', 'llovizna']"
      ]
     },
     "execution_count": 34,
     "metadata": {},
     "output_type": "execute_result"
    }
   ],
   "source": [
    "def inicia_con_l(palabra):\n",
    "    return palabra[0].lower() == 'l'\n",
    "\n",
    "list(filter(inicia_con_l, palabras))"
   ]
  },
  {
   "cell_type": "code",
   "execution_count": 35,
   "metadata": {},
   "outputs": [
    {
     "data": {
      "text/plain": [
       "['genocidio', 'gnomo', 'gargantilla']"
      ]
     },
     "execution_count": 35,
     "metadata": {},
     "output_type": "execute_result"
    }
   ],
   "source": [
    "def inicia_con_g(palabra):\n",
    "    return palabra[0].lower() == 'g'\n",
    "\n",
    "list(filter(inicia_con_g, palabras))"
   ]
  },
  {
   "cell_type": "code",
   "execution_count": 36,
   "metadata": {},
   "outputs": [
    {
     "data": {
      "text/plain": [
       "['bálsamo', 'boicotear', 'blasfemia', 'bóveda', 'basílica']"
      ]
     },
     "execution_count": 36,
     "metadata": {},
     "output_type": "execute_result"
    }
   ],
   "source": [
    "def inicia_con_b(palabra):\n",
    "    return palabra[0].lower() == 'b'\n",
    "\n",
    "list(filter(inicia_con_b, palabras))"
   ]
  },
  {
   "cell_type": "code",
   "execution_count": 37,
   "metadata": {},
   "outputs": [
    {
     "data": {
      "text/plain": [
       "['tentáculo', 'tecnicismo', 'terraplén']"
      ]
     },
     "execution_count": 37,
     "metadata": {},
     "output_type": "execute_result"
    }
   ],
   "source": [
    "def inicia_con_t(palabra):\n",
    "    return palabra[0].lower() == 't'\n",
    "\n",
    "list(filter(inicia_con_t, palabras))"
   ]
  },
  {
   "cell_type": "code",
   "execution_count": 39,
   "metadata": {},
   "outputs": [
    {
     "data": {
      "text/plain": [
       "['genocidio',\n",
       " 'bálsamo',\n",
       " 'boicotear',\n",
       " 'letargo',\n",
       " 'tentáculo',\n",
       " 'legislar',\n",
       " 'gnomo',\n",
       " 'blasfemia',\n",
       " 'lloriquear',\n",
       " 'libélula',\n",
       " 'llovizna',\n",
       " 'gargantilla',\n",
       " 'bóveda',\n",
       " 'tecnicismo',\n",
       " 'terraplén',\n",
       " 'basílica']"
      ]
     },
     "execution_count": 39,
     "metadata": {},
     "output_type": "execute_result"
    }
   ],
   "source": [
    "def inicia_con_lgbt(palabra):\n",
    "    return inicia_con_l(palabra) or inicia_con_g(palabra) or inicia_con_b(palabra) or inicia_con_t(palabra)\n",
    "\n",
    "list(filter(inicia_con_lgbt, palabras))"
   ]
  },
  {
   "cell_type": "code",
   "execution_count": 40,
   "metadata": {},
   "outputs": [],
   "source": [
    "palabras_filtradas = list(filter(inicia_con_lgbt, palabras))"
   ]
  },
  {
   "cell_type": "markdown",
   "metadata": {},
   "source": [
    "A continuación ejecuta tu celda de validación!"
   ]
  },
  {
   "cell_type": "code",
   "execution_count": 41,
   "metadata": {},
   "outputs": [
    {
     "name": "stdout",
     "output_type": "stream",
     "text": [
      "== Validando lista oficial de palabras ==\n",
      "-----------------------------------------\n",
      "0) Tú valor: genocidio, ok\n",
      "1) Tú valor: bálsamo, ok\n",
      "2) Tú valor: boicotear, ok\n",
      "3) Tú valor: letargo, ok\n",
      "4) Tú valor: tentáculo, ok\n",
      "5) Tú valor: legislar, ok\n",
      "6) Tú valor: gnomo, ok\n",
      "7) Tú valor: blasfemia, ok\n",
      "8) Tú valor: lloriquear, ok\n",
      "9) Tú valor: libélula, ok\n",
      "10) Tú valor: llovizna, ok\n",
      "11) Tú valor: gargantilla, ok\n",
      "12) Tú valor: bóveda, ok\n",
      "13) Tú valor: tecnicismo, ok\n",
      "14) Tú valor: terraplén, ok\n",
      "15) Tú valor: basílica, ok\n",
      "-----------------------------------------\n",
      "Cero errores, felicidadez misión cumplida!\n"
     ]
    }
   ],
   "source": [
    "titulo = f'== Validando lista oficial de palabras =='\n",
    "print(titulo)\n",
    "print(\"-\"*len(titulo))\n",
    "errores = 0\n",
    "for i, valor in enumerate([x for x in palabras if \"lgbt\".find(x[0]) >= 0]):\n",
    "    try:\n",
    "        if valor == palabras_filtradas[i]:\n",
    "            print(f\"{i}) Tú valor: {palabras_filtradas[i]}, ok\")\n",
    "        else:\n",
    "            print(f\"{i}) Tú valor: {palabras_filtradas[i]}, error. El valor esperado es {valor}\")\n",
    "            errores += 1\n",
    "    except IndexError:\n",
    "        print(f\"{i}) Tú valor: None, error. El valor esperado es {valor}\")\n",
    "        errores += 1\n",
    "print(\"-\" * len(titulo))\n",
    "if errores:\n",
    "    print(f\"Se encontraron {errores} errores, intenta de nuevo!\")\n",
    "else:\n",
    "    print(\"Cero errores, felicidadez misión cumplida!\")"
   ]
  },
  {
   "cell_type": "code",
   "execution_count": null,
   "metadata": {},
   "outputs": [],
   "source": []
  }
 ],
 "metadata": {
  "kernelspec": {
   "display_name": "Python 3 (ipykernel)",
   "language": "python",
   "name": "python3"
  },
  "language_info": {
   "codemirror_mode": {
    "name": "ipython",
    "version": 3
   },
   "file_extension": ".py",
   "mimetype": "text/x-python",
   "name": "python",
   "nbconvert_exporter": "python",
   "pygments_lexer": "ipython3",
   "version": "3.9.5"
  }
 },
 "nbformat": 4,
 "nbformat_minor": 4
}
